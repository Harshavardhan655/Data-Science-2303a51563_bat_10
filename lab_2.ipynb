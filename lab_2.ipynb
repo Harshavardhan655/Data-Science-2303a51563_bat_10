{
  "nbformat": 4,
  "nbformat_minor": 0,
  "metadata": {
    "colab": {
      "provenance": [],
      "authorship_tag": "ABX9TyMZazpzG5K+uiRe4h74t5qq",
      "include_colab_link": true
    },
    "kernelspec": {
      "name": "python3",
      "display_name": "Python 3"
    },
    "language_info": {
      "name": "python"
    }
  },
  "cells": [
    {
      "cell_type": "markdown",
      "metadata": {
        "id": "view-in-github",
        "colab_type": "text"
      },
      "source": [
        "<a href=\"https://colab.research.google.com/github/Harshavardhan655/Data-Science-2303a51563_bat_10/blob/main/lab_2.ipynb\" target=\"_parent\"><img src=\"https://colab.research.google.com/assets/colab-badge.svg\" alt=\"Open In Colab\"/></a>"
      ]
    },
    {
      "cell_type": "code",
      "execution_count": null,
      "metadata": {
        "id": "2I4vlnJQgjIV"
      },
      "outputs": [],
      "source": []
    },
    {
      "cell_type": "code",
      "source": [
        "import numpy as np\n",
        "import pandas as pd"
      ],
      "metadata": {
        "id": "4sikX8jegoiO"
      },
      "execution_count": 1,
      "outputs": []
    },
    {
      "cell_type": "code",
      "source": [
        "student_data=np.array([\n",
        "    [56,85,96],\n",
        "    [85,36,54],\n",
        "    [78,96,65],\n",
        "    [78,52,57],\n",
        "    [65,85,87]\n",
        "]);"
      ],
      "metadata": {
        "id": "jm4pW2BqkdWo"
      },
      "execution_count": 2,
      "outputs": []
    },
    {
      "cell_type": "code",
      "source": [
        "avg=student_data.mean(axis=1)\n",
        "print(avg)"
      ],
      "metadata": {
        "colab": {
          "base_uri": "https://localhost:8080/"
        },
        "id": "c0vysrkdkiSo",
        "outputId": "21cc51a7-2c6e-452f-ece0-bb2a23ebb209"
      },
      "execution_count": 3,
      "outputs": [
        {
          "output_type": "stream",
          "name": "stdout",
          "text": [
            "[79.         58.33333333 79.66666667 62.33333333 79.        ]\n"
          ]
        }
      ]
    },
    {
      "cell_type": "code",
      "source": [
        "maximum_score=student_data.max(axis=1)\n",
        "print(maximum_score)"
      ],
      "metadata": {
        "colab": {
          "base_uri": "https://localhost:8080/"
        },
        "id": "PS1Tkt_Bkj1l",
        "outputId": "799c65a5-d083-4511-e09c-70c404efa6dc"
      },
      "execution_count": 4,
      "outputs": [
        {
          "output_type": "stream",
          "name": "stdout",
          "text": [
            "[96 85 96 78 87]\n"
          ]
        }
      ]
    },
    {
      "cell_type": "code",
      "source": [
        "\n",
        "minimum_score=student_data.min(axis=1)\n",
        "print(minimum_score)"
      ],
      "metadata": {
        "colab": {
          "base_uri": "https://localhost:8080/"
        },
        "id": "gbrwZQlvkrHF",
        "outputId": "d8af0468-6e0a-479e-a0d4-0121f58c602c"
      },
      "execution_count": 5,
      "outputs": [
        {
          "output_type": "stream",
          "name": "stdout",
          "text": [
            "[56 36 65 52 65]\n"
          ]
        }
      ]
    },
    {
      "cell_type": "code",
      "source": [
        "student_data[0:5]"
      ],
      "metadata": {
        "colab": {
          "base_uri": "https://localhost:8080/"
        },
        "id": "fWv2UzlikwCT",
        "outputId": "88d8576a-0ce7-47af-8710-96694323dc66"
      },
      "execution_count": 6,
      "outputs": [
        {
          "output_type": "execute_result",
          "data": {
            "text/plain": [
              "array([[56, 85, 96],\n",
              "       [85, 36, 54],\n",
              "       [78, 96, 65],\n",
              "       [78, 52, 57],\n",
              "       [65, 85, 87]])"
            ]
          },
          "metadata": {},
          "execution_count": 6
        }
      ]
    },
    {
      "cell_type": "code",
      "source": [
        "student_data[student_data>80]"
      ],
      "metadata": {
        "colab": {
          "base_uri": "https://localhost:8080/"
        },
        "id": "DhmhPwplk3tV",
        "outputId": "1164b73f-f470-448f-8924-e4c8ce6ae219"
      },
      "execution_count": 9,
      "outputs": [
        {
          "output_type": "execute_result",
          "data": {
            "text/plain": [
              "array([85, 96, 85, 96, 85, 87])"
            ]
          },
          "metadata": {},
          "execution_count": 9
        }
      ]
    },
    {
      "cell_type": "code",
      "source": [
        "studentmarksabove_80=student_data[student_data[:, 0] > 80]"
      ],
      "metadata": {
        "id": "rI7QJcwllD7F"
      },
      "execution_count": 10,
      "outputs": []
    },
    {
      "cell_type": "code",
      "source": [
        "studentmarksabove_80"
      ],
      "metadata": {
        "colab": {
          "base_uri": "https://localhost:8080/"
        },
        "id": "-Ct2wB66lKUk",
        "outputId": "970df5f7-4f95-4501-b6ab-febee3a8fc5c"
      },
      "execution_count": 11,
      "outputs": [
        {
          "output_type": "execute_result",
          "data": {
            "text/plain": [
              "array([[85, 36, 54]])"
            ]
          },
          "metadata": {},
          "execution_count": 11
        }
      ]
    },
    {
      "cell_type": "code",
      "source": [
        "reshaped=student_data.T"
      ],
      "metadata": {
        "id": "YEUK9newlSLW"
      },
      "execution_count": 12,
      "outputs": []
    },
    {
      "cell_type": "code",
      "source": [
        "reshaped"
      ],
      "metadata": {
        "colab": {
          "base_uri": "https://localhost:8080/"
        },
        "id": "vXcF4XdBlTwZ",
        "outputId": "68aff2ea-3f2a-4989-edf3-8dc7429663cf"
      },
      "execution_count": 13,
      "outputs": [
        {
          "output_type": "execute_result",
          "data": {
            "text/plain": [
              "array([[56, 85, 78, 78, 65],\n",
              "       [85, 36, 96, 52, 85],\n",
              "       [96, 54, 65, 57, 87]])"
            ]
          },
          "metadata": {},
          "execution_count": 13
        }
      ]
    },
    {
      "cell_type": "code",
      "source": [
        "print(\"\\nObservations:\")\n",
        "print(\"- Students 2, 4, and 6 are consistent high performers.\")\n",
        "print(\"- Science marks are generally higher than Math & English.\")\n",
        "print(\"- A few students (e.g., Student 8) need improvement across subjects.\")"
      ],
      "metadata": {
        "colab": {
          "base_uri": "https://localhost:8080/"
        },
        "id": "y_RFLRFWlb7k",
        "outputId": "3191f5cf-6946-41fb-8313-bfb32ba6f55e"
      },
      "execution_count": 14,
      "outputs": [
        {
          "output_type": "stream",
          "name": "stdout",
          "text": [
            "\n",
            "Observations:\n",
            "- Students 2, 4, and 6 are consistent high performers.\n",
            "- Science marks are generally higher than Math & English.\n",
            "- A few students (e.g., Student 8) need improvement across subjects.\n"
          ]
        }
      ]
    }
  ]
}