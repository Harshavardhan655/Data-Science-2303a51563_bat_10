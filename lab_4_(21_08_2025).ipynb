{
  "nbformat": 4,
  "nbformat_minor": 0,
  "metadata": {
    "colab": {
      "provenance": [],
      "authorship_tag": "ABX9TyMEZZWbFoZjlFBx5vxTmChl",
      "include_colab_link": true
    },
    "kernelspec": {
      "name": "python3",
      "display_name": "Python 3"
    },
    "language_info": {
      "name": "python"
    }
  },
  "cells": [
    {
      "cell_type": "markdown",
      "metadata": {
        "id": "view-in-github",
        "colab_type": "text"
      },
      "source": [
        "<a href=\"https://colab.research.google.com/github/Harshavardhan655/Data-Science-2303a51563_bat_10/blob/main/lab_4_(21_08_2025).ipynb\" target=\"_parent\"><img src=\"https://colab.research.google.com/assets/colab-badge.svg\" alt=\"Open In Colab\"/></a>"
      ]
    },
    {
      "cell_type": "code",
      "execution_count": 2,
      "metadata": {
        "colab": {
          "base_uri": "https://localhost:8080/"
        },
        "id": "MYRjyHNt4mwQ",
        "outputId": "d72905f7-0430-4d49-a4ae-beec823ebb50"
      },
      "outputs": [
        {
          "output_type": "stream",
          "name": "stdout",
          "text": [
            "Original Data:\n",
            "   id     Name  Science  English  Maths\n",
            "0   1  Bronnie       15       74     51\n",
            "1   2   Lemmie       24       45     42\n",
            "2   3    Danya       14       88     99\n",
            "3   4    Denna       25       45     54\n",
            "4   5  Jocelin       16        2     22\n",
            "\n",
            "Data after filling missing marks with column-wise averages:\n",
            "   id     Name  Science  English  Maths\n",
            "0   1  Bronnie       15       74     51\n",
            "1   2   Lemmie       24       45     42\n",
            "2   3    Danya       14       88     99\n",
            "3   4    Denna       25       45     54\n",
            "4   5  Jocelin       16        2     22\n",
            "\n",
            "High Achievers (scored > 75 in all subjects):\n",
            "Empty DataFrame\n",
            "Columns: [id, Name, Science, English, Maths]\n",
            "Index: []\n"
          ]
        }
      ],
      "source": [
        "import pandas as pd\n",
        "\n",
        "# Read the CSV file\n",
        "df = pd.read_csv(\"/content/student_scores1.csv\")\n",
        "\n",
        "# Display initial data\n",
        "print(\"Original Data:\")\n",
        "print(df)\n",
        "\n",
        "# Fill missing subject marks with column-wise average\n",
        "df_filled = df.copy()\n",
        "df_filled[['Maths', 'Science', 'English']] = df_filled[['Maths', 'Science', 'English']].apply(\n",
        "    lambda col: col.fillna(col.mean())\n",
        ")\n",
        "\n",
        "print(\"\\nData after filling missing marks with column-wise averages:\")\n",
        "print(df_filled)\n",
        "\n",
        "# Filter students who scored more than 75 in all subjects\n",
        "high_achievers = df_filled[\n",
        "    (df_filled['Maths'] > 75) &\n",
        "    (df_filled['Science'] > 75) &\n",
        "    (df_filled['English'] > 75)\n",
        "]\n",
        "\n",
        "print(\"\\nHigh Achievers (scored > 75 in all subjects):\")\n",
        "print(high_achievers)\n",
        "\n",
        "# Save results to CSV (optional)\n",
        "high_achievers.to_csv(\"high_achievers.csv\", index=False)"
      ]
    }
  ]
}