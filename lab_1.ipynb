{
  "nbformat": 4,
  "nbformat_minor": 0,
  "metadata": {
    "colab": {
      "provenance": [],
      "authorship_tag": "ABX9TyMKkObHK63rtDKk4CeHtutW",
      "include_colab_link": true
    },
    "kernelspec": {
      "name": "python3",
      "display_name": "Python 3"
    },
    "language_info": {
      "name": "python"
    }
  },
  "cells": [
    {
      "cell_type": "markdown",
      "metadata": {
        "id": "view-in-github",
        "colab_type": "text"
      },
      "source": [
        "<a href=\"https://colab.research.google.com/github/Harshavardhan655/Data-Science-2303a51563_bat_10/blob/main/lab_1.ipynb\" target=\"_parent\"><img src=\"https://colab.research.google.com/assets/colab-badge.svg\" alt=\"Open In Colab\"/></a>"
      ]
    },
    {
      "cell_type": "code",
      "execution_count": null,
      "metadata": {
        "id": "2I4vlnJQgjIV"
      },
      "outputs": [],
      "source": []
    },
    {
      "cell_type": "code",
      "source": [
        "def factorial(n):\n",
        "if n == 0 or n== 1:\n",
        "return 1\n",
        "else:\n",
        "return n * factorial(n - 1)\n",
        "num = int (input (\"Enter a number: \"))\n",
        "print( \"Factorial of\", num, \"is:\" , factorial (num))"
      ],
      "metadata": {
        "id": "4sikX8jegoiO"
      },
      "execution_count": null,
      "outputs": []
    }
  ]
}